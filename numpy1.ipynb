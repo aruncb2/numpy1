{
 "cells": [
  {
   "cell_type": "code",
   "execution_count": 1,
   "metadata": {},
   "outputs": [
    {
     "name": "stdout",
     "output_type": "stream",
     "text": [
      "hello\n"
     ]
    }
   ],
   "source": [
    "print(\"hello\")\n"
   ]
  },
  {
   "cell_type": "code",
   "execution_count": 2,
   "metadata": {},
   "outputs": [
    {
     "name": "stdout",
     "output_type": "stream",
     "text": [
      "hello world\n"
     ]
    }
   ],
   "source": [
    "print(\"hello world\")"
   ]
  },
  {
   "cell_type": "code",
   "execution_count": 3,
   "metadata": {},
   "outputs": [
    {
     "name": "stdout",
     "output_type": "stream",
     "text": [
      "30\n"
     ]
    }
   ],
   "source": [
    "a=10\n",
    "b=20\n",
    "print(a+b)"
   ]
  },
  {
   "cell_type": "code",
   "execution_count": 3,
   "metadata": {},
   "outputs": [],
   "source": [
    "import numpy as np"
   ]
  },
  {
   "cell_type": "code",
   "execution_count": 9,
   "metadata": {},
   "outputs": [
    {
     "data": {
      "text/plain": [
       "array([ 1,  2, 20, 30,  5])"
      ]
     },
     "execution_count": 9,
     "metadata": {},
     "output_type": "execute_result"
    }
   ],
   "source": [
    "arr1=np.array([1,2,3,4,5])\n",
    "arr1[2:4]=[20,30]\n",
    "arr1"
   ]
  },
  {
   "cell_type": "code",
   "execution_count": 23,
   "metadata": {},
   "outputs": [
    {
     "data": {
      "text/plain": [
       "array([[1, 2, 3, 4],\n",
       "       [5, 1, 1, 8],\n",
       "       [9, 1, 1, 2]])"
      ]
     },
     "execution_count": 23,
     "metadata": {},
     "output_type": "execute_result"
    }
   ],
   "source": [
    "arr3= np.array ([[1,2,3,4],[5,6,7,8],[9,0,1,2]])\n",
    "arr3[1:3,1:3]=1\n",
    "arr3\n",
    "\n",
    "\n"
   ]
  },
  {
   "cell_type": "code",
   "execution_count": 27,
   "metadata": {},
   "outputs": [
    {
     "data": {
      "text/plain": [
       "array([[1, 3],\n",
       "       [4, 6],\n",
       "       [5, 7],\n",
       "       [6, 8],\n",
       "       [8, 6],\n",
       "       [6, 3],\n",
       "       [1, 3]])"
      ]
     },
     "execution_count": 27,
     "metadata": {},
     "output_type": "execute_result"
    }
   ],
   "source": [
    "arr4=np.array([[1,2,3],[4,5,6],[5,6,7],[6,7,8],[8,9,6],[6,7,3],[1,6,3]])\n",
    "arr4[:,::2]"
   ]
  },
  {
   "cell_type": "code",
   "execution_count": 46,
   "metadata": {},
   "outputs": [
    {
     "data": {
      "text/plain": [
       "array([[False, False, False],\n",
       "       [False, False, False],\n",
       "       [False,  True, False],\n",
       "       [ True, False,  True],\n",
       "       [False, False, False],\n",
       "       [ True, False, False],\n",
       "       [False,  True, False]])"
      ]
     },
     "execution_count": 46,
     "metadata": {},
     "output_type": "execute_result"
    }
   ],
   "source": [
    "arr4=np.array([[1,2,3],[4,5,6],[5,6,7],[6,7,8],[8,9,6],[6,7,3],[1,6,3]])\n",
    "arr4[[0,1,4]]=255\n",
    "arr4%2==0"
   ]
  },
  {
   "cell_type": "code",
   "execution_count": 5,
   "metadata": {},
   "outputs": [
    {
     "data": {
      "text/plain": [
       "array([[12, 34, 56],\n",
       "       [78, 90, 23],\n",
       "       [45, 67, 89]])"
      ]
     },
     "execution_count": 5,
     "metadata": {},
     "output_type": "execute_result"
    }
   ],
   "source": [
    "arr5= np.array([[12, 34, 56],  \n",
    "                [78, 90, 23],  \n",
    "                [45, 67, 89]])\n",
    "arr5"
   ]
  },
  {
   "cell_type": "code",
   "execution_count": 22,
   "metadata": {},
   "outputs": [
    {
     "data": {
      "text/plain": [
       "array([[45, 67, 89],\n",
       "       [78, 90, 23],\n",
       "       [12, 34, 56]])"
      ]
     },
     "execution_count": 22,
     "metadata": {},
     "output_type": "execute_result"
    }
   ],
   "source": [
    "arr6=arr5[[2,1,0],:]\n",
    "np.argmin(arr6)\n",
    "arr6"
   ]
  },
  {
   "cell_type": "code",
   "execution_count": 36,
   "metadata": {},
   "outputs": [
    {
     "data": {
      "text/plain": [
       "array([[2, 2, 2, 2, 2, 2, 2, 2, 2, 2],\n",
       "       [2, 2, 2, 2, 2, 2, 2, 2, 2, 2],\n",
       "       [2, 2, 2, 2, 2, 2, 2, 2, 2, 2],\n",
       "       [2, 2, 2, 2, 2, 2, 2, 2, 2, 2],\n",
       "       [2, 2, 2, 2, 2, 2, 2, 2, 2, 2]])"
      ]
     },
     "execution_count": 36,
     "metadata": {},
     "output_type": "execute_result"
    }
   ],
   "source": [
    "a=np.full((10,5),2)\n",
    "a.shape\n",
    "np.reshape(a,(5,10))"
   ]
  },
  {
   "cell_type": "code",
   "execution_count": 11,
   "metadata": {},
   "outputs": [],
   "source": [
    "import numpy as np"
   ]
  },
  {
   "cell_type": "markdown",
   "metadata": {},
   "source": []
  },
  {
   "cell_type": "code",
   "execution_count": 22,
   "metadata": {},
   "outputs": [
    {
     "data": {
      "text/plain": [
       "array([[22, 24, 21, 25, 23],\n",
       "       [12, 14, 11, 15, 13],\n",
       "       [ 2,  4,  1,  5,  3],\n",
       "       [17, 19, 16, 20, 18],\n",
       "       [ 7,  9,  6, 10,  8]])"
      ]
     },
     "execution_count": 22,
     "metadata": {},
     "output_type": "execute_result"
    }
   ],
   "source": [
    "arr3=np.reshape(np.arange(1,26),(5,5))\n",
    "arr3\n",
    "arr4=arr3[[4,2,0,3,1]]\n",
    "arr4\n",
    "arr5=arr4[:,[1,3,0,4,2]]\n",
    "arr5"
   ]
  },
  {
   "cell_type": "code",
   "execution_count": 28,
   "metadata": {},
   "outputs": [
    {
     "data": {
      "text/plain": [
       "array([16, 30, 31])"
      ]
     },
     "execution_count": 28,
     "metadata": {},
     "output_type": "execute_result"
    }
   ],
   "source": [
    "arr6=np.arange(1,37)\n",
    "arr6=np.reshape(np.arange(1,37),(6,6))\n",
    "arr6\n",
    "arr6[[2,4,5],[3,5,0]]"
   ]
  },
  {
   "cell_type": "code",
   "execution_count": 51,
   "metadata": {},
   "outputs": [
    {
     "data": {
      "text/plain": [
       "array([100,  42,  96,  99,  66,  68,  77,  99,  29,  82])"
      ]
     },
     "execution_count": 51,
     "metadata": {},
     "output_type": "execute_result"
    }
   ],
   "source": [
    "arr7=np.random.randint(0,101,(10,4))\n",
    "arr7\n",
    "np.max(arr7,axis=1)"
   ]
  },
  {
   "cell_type": "code",
   "execution_count": 58,
   "metadata": {},
   "outputs": [
    {
     "data": {
      "text/plain": [
       "array([[ 1,  5,  9, 13],\n",
       "       [ 2,  6, 10, 14],\n",
       "       [ 3,  7, 11, 15],\n",
       "       [ 4,  8, 12, 16]])"
      ]
     },
     "execution_count": 58,
     "metadata": {},
     "output_type": "execute_result"
    }
   ],
   "source": [
    "arr8=np.arange(1,17)\n",
    "arr8=np.reshape(np.arange(1,17),(4,4))\n",
    "arr8\n",
    "arr9=np.transpose(arr8)\n",
    "arr9"
   ]
  },
  {
   "cell_type": "code",
   "execution_count": 59,
   "metadata": {},
   "outputs": [
    {
     "data": {
      "text/plain": [
       "array([[ 39,  68,  91,  53,  42,  61,  78,  79,  76,  37],\n",
       "       [ 51,  94, 119,  80,  54,  84,  89,  89,  93,  44],\n",
       "       [ 54,  96, 126, 119, 102, 113,  91,  60,  71,  57]])"
      ]
     },
     "execution_count": 59,
     "metadata": {},
     "output_type": "execute_result"
    }
   ],
   "source": [
    "matrix_a=np.random.randint(1,10,(3,3))\n",
    "matrix_b=np.random.randint(1,10,(3,10))\n",
    "np.matmul(matrix_a,matrix_b)"
   ]
  },
  {
   "cell_type": "code",
   "execution_count": 60,
   "metadata": {},
   "outputs": [
    {
     "data": {
      "text/plain": [
       "14.730919862656235"
      ]
     },
     "execution_count": 60,
     "metadata": {},
     "output_type": "execute_result"
    }
   ],
   "source": [
    "a=np.array((2,5,13))\n",
    "b=np.array((10,2,1))\n",
    "np.linalg.norm(a-b)"
   ]
  },
  {
   "cell_type": "code",
   "execution_count": 1,
   "metadata": {},
   "outputs": [],
   "source": [
    "import numpy as np\n"
   ]
  },
  {
   "cell_type": "code",
   "execution_count": null,
   "metadata": {},
   "outputs": [
    {
     "data": {
      "text/plain": [
       "(3, 2, 3)"
      ]
     },
     "execution_count": 5,
     "metadata": {},
     "output_type": "execute_result"
    }
   ],
   "source": [
    "arr10=np.array([[[1,2,3],[4,5,6]],[[1,2,3],[4,5,6]],[[1,2,3],[4,5,6]]])\n",
    "arr10.shape"
   ]
  },
  {
   "cell_type": "code",
   "execution_count": 8,
   "metadata": {},
   "outputs": [
    {
     "data": {
      "text/plain": [
       "(1, 2, 3)"
      ]
     },
     "execution_count": 8,
     "metadata": {},
     "output_type": "execute_result"
    }
   ],
   "source": [
    "arr11=np.array([[[1,2,3],[4,5,6]]])\n",
    "arr11.shape"
   ]
  },
  {
   "cell_type": "code",
   "execution_count": 15,
   "metadata": {},
   "outputs": [
    {
     "data": {
      "text/plain": [
       "1000"
      ]
     },
     "execution_count": 15,
     "metadata": {},
     "output_type": "execute_result"
    }
   ],
   "source": [
    "arr12=np.array([[[1,2,3],[4,5,6]],[[1,2,3],[4,1000,6]],[[1,2,3],[4,5,6]],[[1,2,3],[4,5,6]]])\n",
    "arr12.shape\n",
    "arr12[1,1,1]"
   ]
  },
  {
   "cell_type": "code",
   "execution_count": 33,
   "metadata": {},
   "outputs": [
    {
     "data": {
      "text/plain": [
       "array([[[ 4, 72, 59, 85],\n",
       "        [19, 57, 70, 87],\n",
       "        [77, 44, 88, 49]],\n",
       "\n",
       "       [[54, 63, 62, 42],\n",
       "        [62, 15, 57, 35],\n",
       "        [77, 56,  3,  3]]])"
      ]
     },
     "execution_count": 33,
     "metadata": {},
     "output_type": "execute_result"
    }
   ],
   "source": [
    "arr13=np.random.randint(1,101,(2,3,4))\n",
    "arr13\n",
    "arr14=np.reshape(arr13,(3,2,4))\n",
    "arr14.shape\n",
    "arr13"
   ]
  },
  {
   "cell_type": "code",
   "execution_count": 39,
   "metadata": {},
   "outputs": [
    {
     "data": {
      "text/plain": [
       "array([[[ 4, 72, 59, 85],\n",
       "        [19, 57, 70, 87],\n",
       "        [77, 44, 88, 49]],\n",
       "\n",
       "       [[-1, 63, -1, -1],\n",
       "        [-1, 15, 57, 35],\n",
       "        [77, -1,  3,  3]]])"
      ]
     },
     "execution_count": 39,
     "metadata": {},
     "output_type": "execute_result"
    }
   ],
   "source": [
    "arr13[1][arr13[1]%2==0]=-1\n",
    "arr13"
   ]
  },
  {
   "cell_type": "code",
   "execution_count": 46,
   "metadata": {},
   "outputs": [
    {
     "data": {
      "text/plain": [
       "array([[[ 4, 72, 59, 85],\n",
       "        [19, 57, 70, 87],\n",
       "        [77, 44, 88, 49]],\n",
       "\n",
       "       [[-1, 63, -1, 10],\n",
       "        [-1, 15, 57, 35],\n",
       "        [77, -1,  3,  3]]])"
      ]
     },
     "execution_count": 46,
     "metadata": {},
     "output_type": "execute_result"
    }
   ],
   "source": [
    "np.any(arr13>95)\n",
    "arr13[1,0,3]=10\n",
    "arr13"
   ]
  },
  {
   "cell_type": "code",
   "execution_count": 55,
   "metadata": {},
   "outputs": [
    {
     "data": {
      "text/plain": [
       "<matplotlib.image.AxesImage at 0x1c8efebdb50>"
      ]
     },
     "execution_count": 55,
     "metadata": {},
     "output_type": "execute_result"
    },
    {
     "data": {
      "image/png": "[encoded data removed]",
      "text/plain": [
       "<Figure size 640x480 with 1 Axes>"
      ]
     },
     "metadata": {},
     "output_type": "display_data"
    }
   ],
   "source": [
    "np.zeros((26,27))\n",
    "one_img=np.zeros((26,27))\n",
    "plt.imshow(one_img)\n",
    "one_img[:,13]=255\n",
    "plt.imshow(one_img)\n",
    "one_img[0,1:13]=255\n",
    "plt.imshow(one_img)"
   ]
  },
  {
   "cell_type": "code",
   "execution_count": null,
   "metadata": {},
   "outputs": [],
   "source": [
    "import matplotlib.pyplot as plt\n"
   ]
  }
 ],
 "metadata": {
  "kernelspec": {
   "display_name": "Python 3",
   "language": "python",
   "name": "python3"
  },
  "language_info": {
   "codemirror_mode": {
    "name": "ipython",
    "version": 3
   },
   "file_extension": ".py",
   "mimetype": "text/x-python",
   "name": "python",
   "nbconvert_exporter": "python",
   "pygments_lexer": "ipython3",
   "version": "3.11.5"
  }
 },
 "nbformat": 4,
 "nbformat_minor": 2
}
